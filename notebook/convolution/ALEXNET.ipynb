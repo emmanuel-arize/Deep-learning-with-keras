{
 "cells": [
  {
   "cell_type": "markdown",
   "metadata": {
    "toc": true
   },
   "source": [
    "<h1>Table of Contents<span class=\"tocSkip\"></span></h1>\n",
    "<div class=\"toc\"><ul class=\"toc-item\"><li><span><a href=\"#ALEXNET\" data-toc-modified-id=\"ALEXNET-1\"><span class=\"toc-item-num\">1&nbsp;&nbsp;</span>ALEXNET</a></span></li></ul></div>"
   ]
  },
  {
   "cell_type": "code",
   "execution_count": 1,
   "metadata": {},
   "outputs": [],
   "source": [
    "import tensorflow as tf\n",
    "from tensorflow import keras\n",
    "from tensorflow.keras import layers"
   ]
  },
  {
   "cell_type": "markdown",
   "metadata": {},
   "source": [
    "## ALEXNET\n",
    "<img src='../images/alexnet.jpg'>\n",
    " (source: Dive into Deep Learning by Aston Zhang, Zachary C. Lipton, Mu Li, and Alexander J. Smola page 261)\n",
    "  \n",
    "To read more on Alexnet visit :\n",
    "\n",
    "<a href='https://papers.nips.cc/paper/2012/file/c399862d3b9d6b76c8436e924a68c45b-Paper.pdf'>ImageNet Classification with Deep Convolutional\n",
    "Neural Networks\n",
    "</a>"
   ]
  },
  {
   "cell_type": "code",
   "execution_count": 2,
   "metadata": {},
   "outputs": [],
   "source": [
    "def alexnet():\n",
    "    return tf.keras.models.Sequential([\n",
    "        layers.Conv2D(filters=96,kernel_size=11,strides=4,activation='relu'),\n",
    "        layers.MaxPool2D(pool_size=3,strides=2),\n",
    "        layers.Conv2D(filters=256,kernel_size=5,padding='same',activation='relu'),\n",
    "        layers.MaxPool2D(pool_size=3,strides=2),\n",
    "        layers.Conv2D(filters=384,kernel_size=3,padding='same',activation='relu'),\n",
    "        layers.Conv2D(filters=384,kernel_size=3,padding='same',activation='relu'),\n",
    "        layers.Conv2D(filters=384,kernel_size=3,padding='same',activation='relu'),\n",
    "        layers.MaxPool2D(pool_size=3,strides=2),\n",
    "        layers.Flatten(),\n",
    "        layers.Dense(4096,activation='relu'),\n",
    "        layers.Dropout(0.5),\n",
    "        layers.Dense(4096,activation='relu'),\n",
    "        layers.Dropout(0.5),\n",
    "        layers.Dense(10)\n",
    "    ])"
   ]
  },
  {
   "cell_type": "markdown",
   "metadata": {},
   "source": [
    "We construct a single-channel data instance with both height and width of 224 to observe the output shape of each layer. It matches our diagram above"
   ]
  },
  {
   "cell_type": "code",
   "execution_count": 3,
   "metadata": {},
   "outputs": [
    {
     "name": "stdout",
     "output_type": "stream",
     "text": [
      "Conv2D output shape:\t (1, 54, 54, 96)\n",
      "MaxPooling2D output shape:\t (1, 26, 26, 96)\n",
      "Conv2D output shape:\t (1, 26, 26, 256)\n",
      "MaxPooling2D output shape:\t (1, 12, 12, 256)\n",
      "Conv2D output shape:\t (1, 12, 12, 384)\n",
      "Conv2D output shape:\t (1, 12, 12, 384)\n",
      "Conv2D output shape:\t (1, 12, 12, 384)\n",
      "MaxPooling2D output shape:\t (1, 5, 5, 384)\n",
      "Flatten output shape:\t (1, 9600)\n",
      "Dense output shape:\t (1, 4096)\n",
      "Dropout output shape:\t (1, 4096)\n",
      "Dense output shape:\t (1, 4096)\n",
      "Dropout output shape:\t (1, 4096)\n",
      "Dense output shape:\t (1, 10)\n"
     ]
    }
   ],
   "source": [
    "X = tf.random.uniform(shape=(1, 224, 224,1))\n",
    "for layer in alexnet().layers:\n",
    "    X = layer(X)\n",
    "    print(layer.__class__.__name__, 'output shape:\\t', X.shape)"
   ]
  },
  {
   "cell_type": "code",
   "execution_count": null,
   "metadata": {},
   "outputs": [],
   "source": []
  }
 ],
 "metadata": {
  "kernelspec": {
   "display_name": "Python 3",
   "language": "python",
   "name": "python3"
  },
  "language_info": {
   "codemirror_mode": {
    "name": "ipython",
    "version": 3
   },
   "file_extension": ".py",
   "mimetype": "text/x-python",
   "name": "python",
   "nbconvert_exporter": "python",
   "pygments_lexer": "ipython3",
   "version": "3.6.5"
  },
  "latex_envs": {
   "LaTeX_envs_menu_present": true,
   "autoclose": false,
   "autocomplete": true,
   "bibliofile": "biblio.bib",
   "cite_by": "apalike",
   "current_citInitial": 1,
   "eqLabelWithNumbers": true,
   "eqNumInitial": 1,
   "hotkeys": {
    "equation": "Ctrl-E",
    "itemize": "Ctrl-I"
   },
   "labels_anchors": false,
   "latex_user_defs": false,
   "report_style_numbering": false,
   "user_envs_cfg": false
  },
  "nbTranslate": {
   "displayLangs": [
    "*"
   ],
   "hotkey": "alt-t",
   "langInMainMenu": true,
   "sourceLang": "en",
   "targetLang": "fr",
   "useGoogleTranslate": true
  },
  "toc": {
   "base_numbering": 1,
   "nav_menu": {},
   "number_sections": true,
   "sideBar": true,
   "skip_h1_title": true,
   "title_cell": "Table of Contents",
   "title_sidebar": "Contents",
   "toc_cell": true,
   "toc_position": {},
   "toc_section_display": true,
   "toc_window_display": true
  }
 },
 "nbformat": 4,
 "nbformat_minor": 2
}
