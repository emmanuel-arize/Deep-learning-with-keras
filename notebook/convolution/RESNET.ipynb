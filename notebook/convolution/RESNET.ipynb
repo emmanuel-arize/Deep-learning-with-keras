{
 "cells": [
  {
   "cell_type": "markdown",
   "metadata": {
    "toc": true
   },
   "source": [
    "<h1>Table of Contents<span class=\"tocSkip\"></span></h1>\n",
    "<div class=\"toc\"><ul class=\"toc-item\"></ul></div>"
   ]
  },
  {
   "cell_type": "code",
   "execution_count": 1,
   "metadata": {},
   "outputs": [],
   "source": [
    "import tensorflow as tf\n",
    "from tensorflow.keras import layers\n",
    "from tensorflow.keras import models \n",
    "from tensorflow import keras"
   ]
  },
  {
   "cell_type": "markdown",
   "metadata": {},
   "source": [
    "<p>To understand how resnet work read </p>\n",
    "<a href='https://arxiv.org/pdf/1512.03385.pdf'>Deep Residual Learning for Image Recognition<a/>\n",
    "    \n",
    "<a href='https://arxiv.org/pdf/1603.05027.pdf'>Identity Mappings in Deep Residual Networks</a>\n",
    "<img src=\"images/resnet.jpg\"  width='1000px'>\n",
    "Source:  <a href='https://arxiv.org/pdf/1512.03385.pdf'>Deep Residual Learning for Image Recognition<a/>\n",
    "  "
   ]
  },
  {
   "cell_type": "code",
   "execution_count": 2,
   "metadata": {},
   "outputs": [],
   "source": [
    "class Residual(keras.models.Model):\n",
    "    def __init__(self,num_filters,stride=1,downsample=False,**kwargs):\n",
    "        super().__init__(**kwargs)\n",
    "        self.cov1=layers.Conv2D(num_filters,kernel_size=3,strides=stride,padding='same')\n",
    "        self.cov2=layers.Conv2D(num_filters,kernel_size=3,padding='same')\n",
    "        if downsample:\n",
    "            self.downsample=layers.Conv2D(num_filters,kernel_size=1,strides=stride)\n",
    "        else:\n",
    "            self.downsample=None\n",
    "        self.bn1=layers.BatchNormalization()\n",
    "        self.bn2=layers.BatchNormalization()\n",
    "        self.relu=layers.ReLU()\n",
    "    def call(self,x):\n",
    "        hx=self.relu(self.bn1(self.cov1(x)))\n",
    "        hx=self.bn2(self.cov2(hx))\n",
    "        if self.downsample:\n",
    "            x=self.downsample(x)\n",
    "        return self.relu(x+hx)"
   ]
  },
  {
   "cell_type": "code",
   "execution_count": 3,
   "metadata": {},
   "outputs": [],
   "source": [
    "def resnet_block(num_filters,num_residuals,first_block=False):\n",
    "    blk=models.Sequential()\n",
    "    for residual in range(num_residuals):\n",
    "        if residual==0 and not first_block:\n",
    "            blk.add(Residual(num_filters=num_filters,downsample=True,stride=2))\n",
    "        else:\n",
    "            blk.add(Residual(num_filters=num_filters))\n",
    "    return blk\n",
    "            "
   ]
  },
  {
   "cell_type": "code",
   "execution_count": 4,
   "metadata": {},
   "outputs": [],
   "source": [
    "resnet34=models.Sequential([\n",
    "          layers.Conv2D(64,kernel_size=7,strides=2,padding='same'),\n",
    "          layers.BatchNormalization(),\n",
    "          layers.Activation('relu'),\n",
    "          layers.MaxPool2D(pool_size=3,strides=2,padding='same'),\n",
    "          resnet_block(64,3,first_block=True),\n",
    "          resnet_block(128,4),\n",
    "          resnet_block(256,6),\n",
    "          resnet_block(512,3),\n",
    "          layers.GlobalAvgPool2D(),\n",
    "          layers.Flatten(),\n",
    "          layers.Dense(10)\n",
    "         ])"
   ]
  },
  {
   "cell_type": "code",
   "execution_count": 5,
   "metadata": {},
   "outputs": [
    {
     "name": "stdout",
     "output_type": "stream",
     "text": [
      "Conv2D output shape:\t (1, 112, 112, 64)\n",
      "BatchNormalization output shape:\t (1, 112, 112, 64)\n",
      "Activation output shape:\t (1, 112, 112, 64)\n",
      "MaxPooling2D output shape:\t (1, 56, 56, 64)\n",
      "Sequential output shape:\t (1, 56, 56, 64)\n",
      "Sequential output shape:\t (1, 28, 28, 128)\n",
      "Sequential output shape:\t (1, 14, 14, 256)\n",
      "Sequential output shape:\t (1, 7, 7, 512)\n",
      "GlobalAveragePooling2D output shape:\t (1, 512)\n",
      "Flatten output shape:\t (1, 512)\n",
      "Dense output shape:\t (1, 10)\n"
     ]
    }
   ],
   "source": [
    "X = tf.random.uniform(shape=(1, 224, 224,1))\n",
    "for layer in resnet34.layers:\n",
    "    X = layer(X)\n",
    "    print(layer.__class__.__name__, 'output shape:\\t', X.shape)"
   ]
  },
  {
   "cell_type": "code",
   "execution_count": null,
   "metadata": {},
   "outputs": [],
   "source": []
  }
 ],
 "metadata": {
  "kernelspec": {
   "display_name": "Python 3",
   "language": "python",
   "name": "python3"
  },
  "language_info": {
   "codemirror_mode": {
    "name": "ipython",
    "version": 3
   },
   "file_extension": ".py",
   "mimetype": "text/x-python",
   "name": "python",
   "nbconvert_exporter": "python",
   "pygments_lexer": "ipython3",
   "version": "3.6.5"
  },
  "latex_envs": {
   "LaTeX_envs_menu_present": true,
   "autoclose": false,
   "autocomplete": true,
   "bibliofile": "biblio.bib",
   "cite_by": "apalike",
   "current_citInitial": 1,
   "eqLabelWithNumbers": true,
   "eqNumInitial": 1,
   "hotkeys": {
    "equation": "Ctrl-E",
    "itemize": "Ctrl-I"
   },
   "labels_anchors": false,
   "latex_user_defs": false,
   "report_style_numbering": false,
   "user_envs_cfg": false
  },
  "nbTranslate": {
   "displayLangs": [
    "*"
   ],
   "hotkey": "alt-t",
   "langInMainMenu": true,
   "sourceLang": "en",
   "targetLang": "fr",
   "useGoogleTranslate": true
  },
  "toc": {
   "base_numbering": 1,
   "nav_menu": {},
   "number_sections": true,
   "sideBar": true,
   "skip_h1_title": true,
   "title_cell": "Table of Contents",
   "title_sidebar": "Contents",
   "toc_cell": true,
   "toc_position": {},
   "toc_section_display": true,
   "toc_window_display": true
  }
 },
 "nbformat": 4,
 "nbformat_minor": 2
}
